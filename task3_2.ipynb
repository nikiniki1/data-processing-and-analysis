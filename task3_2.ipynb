{
 "cells": [
  {
   "cell_type": "code",
   "execution_count": 1,
   "source": [
    "import pandas as pd\r\n",
    "import matplotlib.pyplot as plt\r\n",
    "import numpy as np\r\n",
    "df = pd.read_csv('task3_2.csv')"
   ],
   "outputs": [],
   "metadata": {}
  },
  {
   "cell_type": "code",
   "execution_count": 52,
   "source": [
    "df ['s'] = 0\r\n",
    "a = 0.21\r\n",
    "for i in range(1,len(df.index)):\r\n",
    "    df['s'][i] = a * df['y'][i]*1.0 + (1-a) * df['s'][i-1]*1.0\r\n",
    "\r\n",
    "# 3.2.1\r\n",
    "df.iloc[38,1:]\r\n"
   ],
   "outputs": [
    {
     "output_type": "execute_result",
     "data": {
      "text/plain": [
       "s    115\n",
       "Name: 38, dtype: int64"
      ]
     },
     "metadata": {},
     "execution_count": 52
    }
   ],
   "metadata": {}
  },
  {
   "cell_type": "code",
   "execution_count": 48,
   "source": [
    "#  расчет графика и R\r\n",
    "x=np.arange(1,101,1)\r\n",
    "y=df.iloc[:,1:]\r\n",
    "# расчет коэф-та А\r\n",
    "var1=len(x)*np.dot(x,y)\r\n",
    "var2=sum(x)*sum(y['s'])\r\n",
    "var3=len(x)*sum(x**2)\r\n",
    "var4=sum(x)**2\r\n",
    "a=(var1-var2)/(var3-var4)\r\n",
    "# расчет коэф-та В\r\n",
    "var11=sum(y['s'])\r\n",
    "var12=a*sum(x)\r\n",
    "b=(var11-var12)/len(x)\r\n",
    "y1=a*x+b\r\n",
    "plt.plot(x,y1,x,y)\r\n",
    "# расчет R\r\n",
    "var21=sum(np.subtract(y1,y['s'])**2)\r\n",
    "var22=sum(np.subtract(y1,np.mean(y1))**2)\r\n",
    "R=1-var21/var22\r\n",
    "print(R)\r\n",
    "\r\n"
   ],
   "outputs": [
    {
     "output_type": "stream",
     "name": "stdout",
     "text": [
      "0.9988993692720645\n"
     ]
    },
    {
     "output_type": "display_data",
     "data": {
      "image/png": "[encoded data removed]",
      "text/plain": [
       "<Figure size 432x288 with 1 Axes>"
      ]
     },
     "metadata": {
      "needs_background": "light"
     }
    }
   ],
   "metadata": {}
  }
 ],
 "metadata": {
  "orig_nbformat": 4,
  "language_info": {
   "name": "python",
   "version": "3.8.8",
   "mimetype": "text/x-python",
   "codemirror_mode": {
    "name": "ipython",
    "version": 3
   },
   "pygments_lexer": "ipython3",
   "nbconvert_exporter": "python",
   "file_extension": ".py"
  },
  "kernelspec": {
   "name": "python3",
   "display_name": "Python 3.8.8 64-bit ('base': conda)"
  },
  "interpreter": {
   "hash": "ad9960f381ff6ef81191bcac366401316e7db07094466495e5b6bf94eb075f0b"
  }
 },
 "nbformat": 4,
 "nbformat_minor": 2
}